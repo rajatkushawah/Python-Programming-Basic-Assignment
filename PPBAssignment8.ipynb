{
 "cells": [
  {
   "cell_type": "markdown",
   "id": "6f6dcc1c",
   "metadata": {},
   "source": [
    "que1- Write a Python Program to Add Two Matrices?"
   ]
  },
  {
   "cell_type": "markdown",
   "id": "8656dc1c",
   "metadata": {},
   "source": [
    "ans1- "
   ]
  },
  {
   "cell_type": "code",
   "execution_count": 2,
   "id": "adcb6c04",
   "metadata": {},
   "outputs": [
    {
     "name": "stdout",
     "output_type": "stream",
     "text": [
      "The Sum of two matrix \n",
      "\n",
      "[[1 2 3]\n",
      " [4 5 6]\n",
      " [7 8 9]]  and \n",
      "\n",
      "[[1 2 3]\n",
      " [4 5 6]\n",
      " [7 8 9]]  is \n",
      "\n",
      "[[ 2  4  6]\n",
      " [ 8 10 12]\n",
      " [14 16 18]] \n"
     ]
    }
   ],
   "source": [
    "import numpy as np\n",
    "mat1 = np.array([[1,2,3],\n",
    "        [4,5,6],\n",
    "        [7,8,9]])\n",
    "mat2 = np.array([[1,2,3],\n",
    "        [4,5,6],\n",
    "        [7,8,9]])\n",
    "Matsum = np.add(mat1,mat2)\n",
    "print(\"The Sum of two matrix \\n\\n{}  and \\n\\n{}  is \\n\\n{} \".format(mat1,mat2,Matsum))"
   ]
  },
  {
   "cell_type": "markdown",
   "id": "c68ed133",
   "metadata": {},
   "source": [
    "que2- Write a Python Program to Multiply Two Matrices?"
   ]
  },
  {
   "cell_type": "markdown",
   "id": "a7411b66",
   "metadata": {},
   "source": [
    "ans2- "
   ]
  },
  {
   "cell_type": "code",
   "execution_count": 3,
   "id": "2ec3a55a",
   "metadata": {},
   "outputs": [
    {
     "name": "stdout",
     "output_type": "stream",
     "text": [
      "The product of two matrix \n",
      "\n",
      "[[1 2 3]\n",
      " [4 5 6]\n",
      " [7 8 9]]  and \n",
      "\n",
      "[[1 2 3]\n",
      " [4 5 6]\n",
      " [7 8 9]]  is \n",
      "\n",
      "[[ 30  36  42]\n",
      " [ 66  81  96]\n",
      " [102 126 150]] \n"
     ]
    }
   ],
   "source": [
    "import numpy as np\n",
    "mat1 = np.array([[1,2,3],\n",
    "        [4,5,6],\n",
    "        [7,8,9]])\n",
    "mat2 = np.array([[1,2,3],\n",
    "        [4,5,6],\n",
    "        [7,8,9]])\n",
    "mulMat = np.dot(mat1,mat2)\n",
    "print(\"The product of two matrix \\n\\n{}  and \\n\\n{}  is \\n\\n{} \".format(mat1,mat2,mulMat))"
   ]
  },
  {
   "cell_type": "markdown",
   "id": "6d1c91da",
   "metadata": {},
   "source": [
    "que3- Write a Python Program to Transpose a Matrix?"
   ]
  },
  {
   "cell_type": "markdown",
   "id": "96990a09",
   "metadata": {},
   "source": [
    "ans3- "
   ]
  },
  {
   "cell_type": "code",
   "execution_count": 5,
   "id": "d2d07d9c",
   "metadata": {},
   "outputs": [
    {
     "name": "stdout",
     "output_type": "stream",
     "text": [
      "[[1 2 3]\n",
      " [4 5 6]\n",
      " [7 8 9]]\n",
      "\n",
      "\n",
      "Tnasposed matrix [[1 4 7]\n",
      " [2 5 8]\n",
      " [3 6 9]]\n"
     ]
    }
   ],
   "source": [
    "import numpy \n",
    "mat1 = np.array([[1,2,3],\n",
    "        [4,5,6],\n",
    "        [7,8,9]])\n",
    "print(mat1)\n",
    "print(\"\\n\")\n",
    "print(\"Tnasposed matrix\",numpy.transpose(mat1))"
   ]
  },
  {
   "cell_type": "markdown",
   "id": "52c8b41e",
   "metadata": {},
   "source": [
    "que4- Write a Python Program to Sort Words in Alphabetic Order?"
   ]
  },
  {
   "cell_type": "markdown",
   "id": "85973765",
   "metadata": {},
   "source": [
    "ans4- "
   ]
  },
  {
   "cell_type": "code",
   "execution_count": 7,
   "id": "b504fec0",
   "metadata": {},
   "outputs": [
    {
     "name": "stdout",
     "output_type": "stream",
     "text": [
      "Enter stringI love coading .\n",
      ".\n",
      "I\n",
      "coading\n",
      "love\n"
     ]
    }
   ],
   "source": [
    "input_string = input(\"Enter string\")\n",
    "words = input_string.split()\n",
    "words.sort()\n",
    "for word in words:\n",
    "    print(word)"
   ]
  },
  {
   "cell_type": "markdown",
   "id": "cd770e85",
   "metadata": {},
   "source": [
    "que5- Write a Python Program to Remove Punctuation From a String?"
   ]
  },
  {
   "cell_type": "markdown",
   "id": "30f00e54",
   "metadata": {},
   "source": [
    "ans5- "
   ]
  },
  {
   "cell_type": "code",
   "execution_count": 10,
   "id": "b69777d9",
   "metadata": {},
   "outputs": [
    {
     "name": "stdout",
     "output_type": "stream",
     "text": [
      "Enter a string with punctuations:Hurry!\n",
      "Hurry\n"
     ]
    }
   ],
   "source": [
    "punctuations = '''!()-[]{};:'\"\\,<>./?@#$%^&*_~'''\n",
    "input_string = input(\"Enter a string with punctuations:\")\n",
    "rem_punc = \"\"\n",
    "for i in input_string:\n",
    "    if i not in punctuations:\n",
    "        rem_punc = rem_punc + i\n",
    "print(rem_punc)"
   ]
  }
 ],
 "metadata": {
  "kernelspec": {
   "display_name": "Python 3 (ipykernel)",
   "language": "python",
   "name": "python3"
  },
  "language_info": {
   "codemirror_mode": {
    "name": "ipython",
    "version": 3
   },
   "file_extension": ".py",
   "mimetype": "text/x-python",
   "name": "python",
   "nbconvert_exporter": "python",
   "pygments_lexer": "ipython3",
   "version": "3.9.7"
  }
 },
 "nbformat": 4,
 "nbformat_minor": 5
}
