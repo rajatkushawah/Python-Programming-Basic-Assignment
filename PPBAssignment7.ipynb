{
 "cells": [
  {
   "cell_type": "markdown",
   "id": "f2290554",
   "metadata": {},
   "source": [
    "que1- Write a Python Program to find sum of array?"
   ]
  },
  {
   "cell_type": "markdown",
   "id": "edf85191",
   "metadata": {},
   "source": [
    "ans1- "
   ]
  },
  {
   "cell_type": "code",
   "execution_count": 3,
   "id": "279cf9ca",
   "metadata": {},
   "outputs": [
    {
     "name": "stdout",
     "output_type": "stream",
     "text": [
      "Enter the Array: 5,1,4,6,21\n",
      "The sum of (5, 1, 4, 6, 21) is 37\n"
     ]
    }
   ],
   "source": [
    "def sumofarray():\n",
    "    in_arr = eval(input(\"Enter the Array: \"))\n",
    "    print(f'The sum of {in_arr} is {sum(in_arr)}')\n",
    "\n",
    "sumofarray()"
   ]
  },
  {
   "cell_type": "markdown",
   "id": "713c6832",
   "metadata": {},
   "source": [
    "que2- Write a Python Program to find largest element in an array?"
   ]
  },
  {
   "cell_type": "markdown",
   "id": "7211351e",
   "metadata": {},
   "source": [
    "ans2- "
   ]
  },
  {
   "cell_type": "code",
   "execution_count": 6,
   "id": "b61a8e88",
   "metadata": {},
   "outputs": [
    {
     "name": "stdout",
     "output_type": "stream",
     "text": [
      "Enter the Array: 5,3,5,5,2,6,15\n",
      "The Largest Element in (5, 3, 5, 5, 2, 6, 15) is 15\n"
     ]
    }
   ],
   "source": [
    "def largestelement():\n",
    "    in_arr = eval(input(\"Enter the Array: \"))\n",
    "    print(f\"The Largest Element in {in_arr} is {sorted(in_arr, reverse=True)[0]}\")\n",
    "    \n",
    "largestelement()"
   ]
  },
  {
   "cell_type": "markdown",
   "id": "1cfaa893",
   "metadata": {},
   "source": [
    "que3- Write a Python Program for array rotation?"
   ]
  },
  {
   "cell_type": "markdown",
   "id": "0815d2a1",
   "metadata": {},
   "source": [
    "ans3- "
   ]
  },
  {
   "cell_type": "code",
   "execution_count": 8,
   "id": "2904a611",
   "metadata": {},
   "outputs": [
    {
     "name": "stdout",
     "output_type": "stream",
     "text": [
      "Enter the Array: 5,4,6,4,9\n",
      "The Reverse of Array (5, 4, 6, 4, 9) is (9, 4, 6, 4, 5)\n"
     ]
    }
   ],
   "source": [
    "def rotationofarray():\n",
    "    in_arr = eval(input(\"Enter the Array: \"))\n",
    "    print(f\"The Reverse of Array {in_arr} is {in_arr[::-1]}\")\n",
    "    \n",
    "rotationofarray()"
   ]
  },
  {
   "cell_type": "markdown",
   "id": "52ea7aed",
   "metadata": {},
   "source": [
    "que4- Write a Python Program to Split the array and add the first part to the end?"
   ]
  },
  {
   "cell_type": "markdown",
   "id": "425c9747",
   "metadata": {},
   "source": [
    "ans4- "
   ]
  },
  {
   "cell_type": "code",
   "execution_count": 11,
   "id": "fea1d0fd",
   "metadata": {},
   "outputs": [
    {
     "name": "stdout",
     "output_type": "stream",
     "text": [
      "Enter the Array: 5,5,6,1,54,9\n",
      "The Sum of First and Last Elements of Array (5, 5, 6, 1, 54, 9) is 14\n"
     ]
    }
   ],
   "source": [
    "def sumofsplits():\n",
    "    in_arr = eval(input(\"Enter the Array: \"))\n",
    "    print(f\"The Sum of First and Last Elements of Array {in_arr} is {in_arr[0]+in_arr[-1]}\")\n",
    "    \n",
    "sumofsplits()"
   ]
  },
  {
   "cell_type": "markdown",
   "id": "bf39b87c",
   "metadata": {},
   "source": [
    "que5- Write a Python Program to check if given array is Monotonic?"
   ]
  },
  {
   "cell_type": "markdown",
   "id": "51076438",
   "metadata": {},
   "source": [
    "ans5- "
   ]
  },
  {
   "cell_type": "code",
   "execution_count": 14,
   "id": "9b662282",
   "metadata": {},
   "outputs": [
    {
     "name": "stdout",
     "output_type": "stream",
     "text": [
      "Enter the Array: 4,5,6,7,89\n",
      "Array (4, 5, 6, 7, 89) is Monotonic\n",
      "Enter the Array: 1,2,4,8,1,5\n",
      "Array (1, 2, 4, 8, 1, 5) is Not Monotonic\n"
     ]
    }
   ],
   "source": [
    "def checkmonotonic():\n",
    "    in_arr = eval(input(\"Enter the Array: \"))\n",
    "    if(all(in_arr[i]<=in_arr[i+1] for i in range(len(in_arr)-1)) or all(in_arr[i]>=in_arr[i+1] for i in range(len(in_arr)-1))):\n",
    "        print(f'Array {in_arr} is Monotonic')\n",
    "    else:\n",
    "        print(f'Array {in_arr} is Not Monotonic')\n",
    "\n",
    "checkmonotonic()\n",
    "checkmonotonic()"
   ]
  }
 ],
 "metadata": {
  "kernelspec": {
   "display_name": "Python 3 (ipykernel)",
   "language": "python",
   "name": "python3"
  },
  "language_info": {
   "codemirror_mode": {
    "name": "ipython",
    "version": 3
   },
   "file_extension": ".py",
   "mimetype": "text/x-python",
   "name": "python",
   "nbconvert_exporter": "python",
   "pygments_lexer": "ipython3",
   "version": "3.9.7"
  }
 },
 "nbformat": 4,
 "nbformat_minor": 5
}
