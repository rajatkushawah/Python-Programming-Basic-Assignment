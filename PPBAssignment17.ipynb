{
 "cells": [
  {
   "cell_type": "markdown",
   "id": "e2c82172",
   "metadata": {},
   "source": [
    "que1- Create a function that takes three arguments a, b, c and returns the sum of the numbers that are evenly divided by c from the range a, b inclusive.\n",
    "Examples\n",
    "\n",
    "    evenly_divisible(1, 10, 20) ➞ 0\n",
    "    No number between 1 and 10 can be evenly divided by 20.\n",
    "\n",
    "    evenly_divisible(1, 10, 2) ➞ 30\n",
    "    2 + 4 + 6 + 8 + 10 = 30\n",
    "\n",
    "    evenly_divisible(1, 10, 3) ➞ 18\n",
    "    3 + 6 + 9 = 18"
   ]
  },
  {
   "cell_type": "markdown",
   "id": "d7c62f23",
   "metadata": {},
   "source": [
    "ans1- "
   ]
  },
  {
   "cell_type": "code",
   "execution_count": 3,
   "id": "9d44d9ea",
   "metadata": {},
   "outputs": [
    {
     "name": "stdout",
     "output_type": "stream",
     "text": [
      "(1, 10, 20) ➞ 0\n",
      "(1, 10, 2) ➞ 30\n",
      "(1, 10, 3) ➞ 18\n"
     ]
    }
   ],
   "source": [
    "def evenly_divisible(a,b,c):\n",
    "    divlist = []\n",
    "    for num in range(a,b+1):\n",
    "        if num%c == 0:\n",
    "            divlist.append(num)\n",
    "    print(f'{a,b,c} ➞ {sum(divlist)}')\n",
    "\n",
    "evenly_divisible(1,10,20)\n",
    "evenly_divisible(1,10,2)\n",
    "evenly_divisible(1,10,3)"
   ]
  },
  {
   "cell_type": "markdown",
   "id": "ccb00c6b",
   "metadata": {},
   "source": [
    "que2- Create a function that returns True if a given inequality expression is correct and False otherwise.\n",
    "Examples\n",
    "\n",
    "    correct_signs(\"3 < 7 < 11\") ➞ True\n",
    "\n",
    "    correct_signs(\"13 > 44 > 33 > 1\") ➞ False\n",
    "\n",
    "    correct_signs(\"1 < 2 < 6 < 9 > 3\") ➞ True"
   ]
  },
  {
   "cell_type": "markdown",
   "id": "80ca85ff",
   "metadata": {},
   "source": [
    "ans2- "
   ]
  },
  {
   "cell_type": "code",
   "execution_count": 6,
   "id": "0276a216",
   "metadata": {},
   "outputs": [
    {
     "name": "stdout",
     "output_type": "stream",
     "text": [
      "Enter the inequality: 3 < 7 < 11\n",
      "3 < 7 < 11 ➞ True\n",
      "Enter the inequality: 13 > 44 > 33 > 1\n",
      "13 > 44 > 33 > 1 ➞ False\n",
      "Enter the inequality: 1 < 2 < 6 < 9 > 3\n",
      "1 < 2 < 6 < 9 > 3 ➞ True\n"
     ]
    }
   ],
   "source": [
    "def correct_signs():\n",
    "    in_string = input('Enter the inequality: ')\n",
    "    out_bool = eval(in_string)\n",
    "    print(f'{in_string} ➞ {out_bool}')\n",
    "\n",
    "for x in range(3):\n",
    "    correct_signs()"
   ]
  },
  {
   "cell_type": "markdown",
   "id": "28bc09ff",
   "metadata": {},
   "source": [
    "que3- Create a function that replaces all the vowels in a string with a specified character.\n",
    "Examples\n",
    "\n",
    "    replace_vowels(\"the aardvark\", \"#\") ➞ \"th# ##rdv#rk\"\n",
    "\n",
    "    replace_vowels(\"minnie mouse\", \"?\") ➞ \"m?nn?? m??s?\"\n",
    "\n",
    "    replace_vowels(\"shakespeare\", \"*\") ➞ \"sh*k*sp**r*\""
   ]
  },
  {
   "cell_type": "markdown",
   "id": "a6392f05",
   "metadata": {},
   "source": [
    "ans3- "
   ]
  },
  {
   "cell_type": "code",
   "execution_count": 8,
   "id": "82f712c5",
   "metadata": {},
   "outputs": [
    {
     "data": {
      "text/plain": [
       "'th# ##rdv#rk'"
      ]
     },
     "execution_count": 8,
     "metadata": {},
     "output_type": "execute_result"
    }
   ],
   "source": [
    "def replace_vowels(str, s):\n",
    "    vowels = 'AEIOUaeiou'\n",
    "    for ele in vowels:  \n",
    "        str = str.replace(ele, s)  \n",
    "    return str\n",
    "\n",
    "replace_vowels(\"the aardvark\", \"#\")"
   ]
  },
  {
   "cell_type": "code",
   "execution_count": 9,
   "id": "6ddca65e",
   "metadata": {},
   "outputs": [
    {
     "data": {
      "text/plain": [
       "'m?nn?? m??s?'"
      ]
     },
     "execution_count": 9,
     "metadata": {},
     "output_type": "execute_result"
    }
   ],
   "source": [
    "replace_vowels(\"minnie mouse\", \"?\")"
   ]
  },
  {
   "cell_type": "code",
   "execution_count": 10,
   "id": "d630ae1e",
   "metadata": {},
   "outputs": [
    {
     "data": {
      "text/plain": [
       "'sh*k*sp**r*'"
      ]
     },
     "execution_count": 10,
     "metadata": {},
     "output_type": "execute_result"
    }
   ],
   "source": [
    "replace_vowels(\"shakespeare\", \"*\")"
   ]
  },
  {
   "cell_type": "markdown",
   "id": "9a978db1",
   "metadata": {},
   "source": [
    "que4- Write a function that calculates the factorial of a number recursively.\n",
    "Examples\n",
    "\n",
    "    factorial(5) ➞ 120\n",
    "\n",
    "    factorial(3) ➞ 6\n",
    "\n",
    "    factorial(1) ➞ 1\n",
    "\n",
    "    factorial(0) ➞ 1"
   ]
  },
  {
   "cell_type": "markdown",
   "id": "8ee27129",
   "metadata": {},
   "source": [
    "ans4- "
   ]
  },
  {
   "cell_type": "code",
   "execution_count": 19,
   "id": "78971f71",
   "metadata": {},
   "outputs": [
    {
     "name": "stdout",
     "output_type": "stream",
     "text": [
      "factorial(5) ➞ 120\n",
      "factorial(3) ➞ 6\n",
      "factorial(1) ➞ 1\n",
      "factorial(0) ➞ 1\n"
     ]
    }
   ],
   "source": [
    "def factorial(n):\n",
    "    if n==0:\n",
    "        return 1\n",
    "    return n * factorial(n-1)\n",
    "\n",
    "print(f'factorial(5) ➞ {factorial(5)}')\n",
    "print(f'factorial(3) ➞ {factorial(3)}')\n",
    "print(f'factorial(1) ➞ {factorial(1)}')\n",
    "print(f'factorial(0) ➞ {factorial(0)}')"
   ]
  },
  {
   "cell_type": "markdown",
   "id": "f17557bd",
   "metadata": {},
   "source": [
    "que5- Hamming distance is the number of characters that differ between two strings.\n",
    "To illustrate:\n",
    "    String1: \"abcbba\"\n",
    "    String2: \"abcbda\" \n",
    "Hamming Distance: 1 - \"b\" vs. \"d\" is the only difference.\n",
    "    Create a function that computes the hamming distance between two strings.Examples\n",
    "    \n",
    "    hamming_distance(\"abcde\", \"bcdef\") ➞ 5\n",
    "    hamming_distance(\"abcde\", \"abcde\") ➞ 0\n",
    "    hamming_distance(\"strong\", \"strung\") ➞ 1"
   ]
  },
  {
   "cell_type": "markdown",
   "id": "ba2a8a61",
   "metadata": {},
   "source": [
    "ans5- "
   ]
  },
  {
   "cell_type": "code",
   "execution_count": 23,
   "id": "6ee9b974",
   "metadata": {},
   "outputs": [
    {
     "name": "stdout",
     "output_type": "stream",
     "text": [
      "hamming_distance(\"abcde\", \"bcdef\") ➞ 5\n",
      "hamming_distance(\"abcde\", \"abcde\") ➞ 0\n",
      "hamming_distance(\"strong\", \"strung\") ➞ 1\n"
     ]
    }
   ],
   "source": [
    "def hamming_distance(str1, str2):\n",
    "    i = 0\n",
    "    count = 0\n",
    "    while(i < len(str1)):\n",
    "        if(str1[i] != str2[i]):\n",
    "            count += 1\n",
    "        i += 1\n",
    "    return count\n",
    "\n",
    "print(f'hamming_distance(\"abcde\", \"bcdef\") ➞ {hamming_distance(\"abcde\", \"bcdef\")}')\n",
    "print(f'hamming_distance(\"abcde\", \"abcde\") ➞ {hamming_distance(\"abcde\", \"abcde\")}')\n",
    "print(f'hamming_distance(\"strong\", \"strung\") ➞ {hamming_distance(\"strong\", \"strung\")}')"
   ]
  }
 ],
 "metadata": {
  "kernelspec": {
   "display_name": "Python 3 (ipykernel)",
   "language": "python",
   "name": "python3"
  },
  "language_info": {
   "codemirror_mode": {
    "name": "ipython",
    "version": 3
   },
   "file_extension": ".py",
   "mimetype": "text/x-python",
   "name": "python",
   "nbconvert_exporter": "python",
   "pygments_lexer": "ipython3",
   "version": "3.9.7"
  }
 },
 "nbformat": 4,
 "nbformat_minor": 5
}
