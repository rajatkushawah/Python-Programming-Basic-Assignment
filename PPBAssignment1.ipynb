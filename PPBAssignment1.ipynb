{
 "cells": [
  {
   "cell_type": "markdown",
   "id": "a5ca805c",
   "metadata": {},
   "source": [
    "que1- Write a Python program to print \"Hello Python\"?"
   ]
  },
  {
   "cell_type": "markdown",
   "id": "fecd5ce8",
   "metadata": {},
   "source": [
    "ans1- "
   ]
  },
  {
   "cell_type": "code",
   "execution_count": 1,
   "id": "d2ad4009",
   "metadata": {},
   "outputs": [
    {
     "name": "stdout",
     "output_type": "stream",
     "text": [
      "Hello Python\n"
     ]
    }
   ],
   "source": [
    "print(\"Hello Python\")"
   ]
  },
  {
   "cell_type": "markdown",
   "id": "e2e22cbf",
   "metadata": {},
   "source": [
    "que2- Write a Python program to do arithmetical operations addition and division.?"
   ]
  },
  {
   "cell_type": "markdown",
   "id": "44faa7ec",
   "metadata": {},
   "source": [
    "ans2- "
   ]
  },
  {
   "cell_type": "code",
   "execution_count": 2,
   "id": "b2cee622",
   "metadata": {},
   "outputs": [
    {
     "name": "stdout",
     "output_type": "stream",
     "text": [
      "Enter value for a:8\n",
      "Enter value for b:6\n",
      "Addition of a and b is  14\n",
      "Division of a and b is  1.3333333333333333\n"
     ]
    }
   ],
   "source": [
    "a = int(input(\"Enter value for a:\"))\n",
    "b = int(input(\"Enter value for b:\"))\n",
    "\n",
    "print(\"Addition of a and b is \", a+b)\n",
    "print(\"Division of a and b is \", a/b)"
   ]
  },
  {
   "cell_type": "markdown",
   "id": "619e8178",
   "metadata": {},
   "source": [
    "que3- Write a Python program to find the area of a triangle?"
   ]
  },
  {
   "cell_type": "markdown",
   "id": "1c82aead",
   "metadata": {},
   "source": [
    "ans3- "
   ]
  },
  {
   "cell_type": "code",
   "execution_count": 3,
   "id": "06e46cad",
   "metadata": {},
   "outputs": [
    {
     "name": "stdout",
     "output_type": "stream",
     "text": [
      "Enter base of triangle:40\n",
      "Enter height of triangle:50\n",
      "\n",
      "Area of triangle -> 1000.0\n"
     ]
    }
   ],
   "source": [
    "base = int(input(\"Enter base of triangle:\"))\n",
    "height = int(input(\"Enter height of triangle:\"))\n",
    "\n",
    "def areaOfTriangle(base,height):\n",
    "    print('\\nArea of triangle ->', 0.5*base*height)\n",
    "\n",
    "areaOfTriangle(base,height)"
   ]
  },
  {
   "cell_type": "markdown",
   "id": "0b6fa8e7",
   "metadata": {},
   "source": [
    "que4- Write a Python program to swap two variables?"
   ]
  },
  {
   "cell_type": "markdown",
   "id": "39ae5fa8",
   "metadata": {},
   "source": [
    "ans4- "
   ]
  },
  {
   "cell_type": "code",
   "execution_count": 5,
   "id": "3633c99b",
   "metadata": {},
   "outputs": [
    {
     "name": "stdout",
     "output_type": "stream",
     "text": [
      "Enter First Number: 10\n",
      "Enter Second Number: 50\n",
      "Before swapping ->  10 50\n",
      "After swapping ->  50 10\n"
     ]
    }
   ],
   "source": [
    "num_1 = int(input(\"Enter First Number: \"))\n",
    "num_2 = int(input(\"Enter Second Number: \"))\n",
    "\n",
    "def Swapnumbers(a,b):\n",
    "    temp = a\n",
    "    a = b\n",
    "    b = temp\n",
    "    return a,b\n",
    "\n",
    "print('Before swapping -> ',num_1, num_2)\n",
    "num_1, num_2 = Swapnumbers(num_1, num_2)\n",
    "print('After swapping -> ',num_1,num_2)"
   ]
  },
  {
   "cell_type": "markdown",
   "id": "577644e2",
   "metadata": {},
   "source": [
    "que5- Write a Python program to generate a random number?"
   ]
  },
  {
   "cell_type": "markdown",
   "id": "184eac1d",
   "metadata": {},
   "source": [
    "ans5- "
   ]
  },
  {
   "cell_type": "code",
   "execution_count": 6,
   "id": "171e84c0",
   "metadata": {},
   "outputs": [
    {
     "name": "stdout",
     "output_type": "stream",
     "text": [
      "Random number ->  654\n",
      "Random number ->  62\n"
     ]
    }
   ],
   "source": [
    "from random import randint\n",
    "\n",
    "def generateRandomNumber(start=0, end=1000):\n",
    "    print('Random number -> ',randint(start,end))\n",
    "\n",
    "# Generating random numbers without arguments    \n",
    "generateRandomNumber()\n",
    "\n",
    "# Generating random numbers with arguments    \n",
    "generateRandomNumber(0,100)"
   ]
  }
 ],
 "metadata": {
  "kernelspec": {
   "display_name": "Python 3 (ipykernel)",
   "language": "python",
   "name": "python3"
  },
  "language_info": {
   "codemirror_mode": {
    "name": "ipython",
    "version": 3
   },
   "file_extension": ".py",
   "mimetype": "text/x-python",
   "name": "python",
   "nbconvert_exporter": "python",
   "pygments_lexer": "ipython3",
   "version": "3.9.7"
  }
 },
 "nbformat": 4,
 "nbformat_minor": 5
}
