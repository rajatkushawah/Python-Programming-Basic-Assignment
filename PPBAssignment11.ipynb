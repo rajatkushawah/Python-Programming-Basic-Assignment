{
 "cells": [
  {
   "cell_type": "markdown",
   "id": "50aebf3a",
   "metadata": {},
   "source": [
    "que1- Write a Python program to find words which are greater than given length k?"
   ]
  },
  {
   "cell_type": "markdown",
   "id": "1611daa6",
   "metadata": {},
   "source": [
    "ans1- "
   ]
  },
  {
   "cell_type": "code",
   "execution_count": 2,
   "id": "b9bfd1aa",
   "metadata": {},
   "outputs": [
    {
     "name": "stdout",
     "output_type": "stream",
     "text": [
      "Enter the string: Hello I am Rajat\n",
      "Enter the length of the string: 4\n",
      "Hello,Rajat\n"
     ]
    }
   ],
   "source": [
    "def checklenofstring():\n",
    "    in_string = input(\"Enter the string: \")\n",
    "    in_length = int(input('Enter the length of the string: '))\n",
    "    out_string = []\n",
    "    for string in in_string.split(\" \"):\n",
    "        if len(string) > in_length:\n",
    "            out_string.append(string)\n",
    "    print(','.join(out_string))\n",
    "\n",
    "checklenofstring()"
   ]
  },
  {
   "cell_type": "markdown",
   "id": "dea28737",
   "metadata": {},
   "source": [
    "que2- Write a Python program for removing i-th character from a string?"
   ]
  },
  {
   "cell_type": "markdown",
   "id": "b705d5c1",
   "metadata": {},
   "source": [
    "ans2- "
   ]
  },
  {
   "cell_type": "code",
   "execution_count": 7,
   "id": "5ba4d658",
   "metadata": {},
   "outputs": [
    {
     "name": "stdout",
     "output_type": "stream",
     "text": [
      "Enter the String: Rajat\n",
      "Enter the ith Character: 2\n",
      "Raat\n"
     ]
    }
   ],
   "source": [
    "def removecharacter():\n",
    "    in_string = input(\"Enter the String: \")\n",
    "    in_char_num = int(input(\"Enter the ith Character: \"))\n",
    "    out_string = ''\n",
    "    for ele in range(len(in_string)):\n",
    "        if ele != in_char_num:\n",
    "            out_string = out_string + in_string[ele]\n",
    "    print(out_string)\n",
    "    \n",
    "removecharacter()"
   ]
  },
  {
   "cell_type": "markdown",
   "id": "079d05f6",
   "metadata": {},
   "source": [
    "que3- Write a Python program to split and join a string?"
   ]
  },
  {
   "cell_type": "markdown",
   "id": "7ec45cd4",
   "metadata": {},
   "source": [
    "ans3- "
   ]
  },
  {
   "cell_type": "code",
   "execution_count": 8,
   "id": "efc902e1",
   "metadata": {},
   "outputs": [
    {
     "name": "stdout",
     "output_type": "stream",
     "text": [
      "Enter the string: ineuron full stack data science course\n",
      "Split String: ['ineuron', 'full', 'stack', 'data', 'science', 'course']\n",
      "Join String: ineuron full stack data science course\n"
     ]
    }
   ],
   "source": [
    "def splitjoinstring():\n",
    "    in_string = input('Enter the string: ')\n",
    "    print(f\"Split String: {in_string.split(' ')}\")\n",
    "    print(f\"Join String: {' '.join(in_string.split(' '))}\")\n",
    "\n",
    "splitjoinstring()"
   ]
  },
  {
   "cell_type": "markdown",
   "id": "1a23b4c5",
   "metadata": {},
   "source": [
    "que4- Write a Python to check if a given string is binary string or not?"
   ]
  },
  {
   "cell_type": "markdown",
   "id": "f613b2c3",
   "metadata": {},
   "source": [
    "ans4- "
   ]
  },
  {
   "cell_type": "code",
   "execution_count": 11,
   "id": "3a827578",
   "metadata": {},
   "outputs": [
    {
     "name": "stdout",
     "output_type": "stream",
     "text": [
      "Enter the string: 11011110110\n",
      "11011110110 is a binary string.\n",
      "Enter the string: 846349652\n",
      "846349652 is not a binart string.\n"
     ]
    }
   ],
   "source": [
    "def checkbinary():\n",
    "    in_string = input('Enter the string: ')\n",
    "    stun = 0\n",
    "    for ele in in_string:\n",
    "        if ele in ['0','1']:\n",
    "            stun = 1\n",
    "            continue\n",
    "        else:\n",
    "            stun = 0\n",
    "            break\n",
    "    statement = 'is a binary string.' if stun == 1 else 'is not a binart string.' \n",
    "    print(f'{in_string} {statement}')\n",
    "\n",
    "checkbinary()\n",
    "checkbinary()"
   ]
  },
  {
   "cell_type": "markdown",
   "id": "bc871818",
   "metadata": {},
   "source": [
    "que5- Write a Python program to find uncommon words from two Strings?"
   ]
  },
  {
   "cell_type": "markdown",
   "id": "3e5809d4",
   "metadata": {},
   "source": [
    "ans5- "
   ]
  },
  {
   "cell_type": "code",
   "execution_count": 16,
   "id": "e4b62da1",
   "metadata": {},
   "outputs": [
    {
     "name": "stdout",
     "output_type": "stream",
     "text": [
      "Enter the String 1: Hello I am Rajat\n",
      "Enter the String 2: Hey I am Kushawah\n",
      "{'Hello', 'Rajat', 'Hey', 'Kushawah'}\n"
     ]
    }
   ],
   "source": [
    "def uncommonwords():\n",
    "    in_string_1 = set(input(\"Enter the String 1: \").split(' '))\n",
    "    in_string_2 = set(input(\"Enter the String 2: \").split(' '))\n",
    "    out_string = (in_string_1.union(in_string_2)).difference(in_string_1.intersection(in_string_2))\n",
    "    print(out_string)\n",
    "    \n",
    "uncommonwords()"
   ]
  },
  {
   "cell_type": "markdown",
   "id": "cf0b7145",
   "metadata": {},
   "source": [
    "que6- Write a Python to find all duplicate characters in string?"
   ]
  },
  {
   "cell_type": "markdown",
   "id": "c31d209f",
   "metadata": {},
   "source": [
    "ans6- "
   ]
  },
  {
   "cell_type": "code",
   "execution_count": 20,
   "id": "c5bbd1c2",
   "metadata": {},
   "outputs": [
    {
     "name": "stdout",
     "output_type": "stream",
     "text": [
      "Enter the string a : ineuron full stack data science course\n",
      "Duplicate characters are: ['u', 'n', 'c', 'e', 's', 'o', 'i', 'r', 'l', 'a', ' ', 't']\n"
     ]
    }
   ],
   "source": [
    "def duplicatechars():\n",
    "    in_string = input(\"Enter the string a : \").lower()\n",
    "    duplicate_list = []\n",
    "    for i in in_string:\n",
    "        if in_string.count(i) > 1 :\n",
    "            if i not in duplicate_list:\n",
    "                duplicate_list.append(i)\n",
    "    print(f'Duplicate characters are: {list(set(duplicate_list))}')    \n",
    "duplicatechars()"
   ]
  },
  {
   "cell_type": "markdown",
   "id": "e1b37990",
   "metadata": {},
   "source": [
    "que7- Write a Python Program to check if a string contains any special character?"
   ]
  },
  {
   "cell_type": "markdown",
   "id": "532e0b74",
   "metadata": {},
   "source": [
    "ans7- "
   ]
  },
  {
   "cell_type": "code",
   "execution_count": 22,
   "id": "c4e06371",
   "metadata": {},
   "outputs": [
    {
     "name": "stdout",
     "output_type": "stream",
     "text": [
      "Enter the string: ineuron full stack data science course.\n",
      "There are 0 Speical Characters in ineuron full stack data science course. which are []\n",
      "Enter the string: @ineuron full stack data science course\n",
      "There are 1 Speical Characters in @ineuron full stack data science course which are ['@']\n"
     ]
    }
   ],
   "source": [
    "def checkspecialchar():\n",
    "    spl_chars = '[@_!#$%^&*()<>?/\\|}{~:]'\n",
    "    in_num = input('Enter the string: ')\n",
    "    count = 0\n",
    "    char_list = []\n",
    "    for ele in in_num:\n",
    "        if ele in spl_chars:\n",
    "            char_list.append(ele)\n",
    "            count = count+1\n",
    "    print(f'There are {count} Speical Characters in {in_num} which are {char_list}')\n",
    "            \n",
    "        \n",
    "checkspecialchar()\n",
    "checkspecialchar()"
   ]
  }
 ],
 "metadata": {
  "kernelspec": {
   "display_name": "Python 3 (ipykernel)",
   "language": "python",
   "name": "python3"
  },
  "language_info": {
   "codemirror_mode": {
    "name": "ipython",
    "version": 3
   },
   "file_extension": ".py",
   "mimetype": "text/x-python",
   "name": "python",
   "nbconvert_exporter": "python",
   "pygments_lexer": "ipython3",
   "version": "3.9.7"
  }
 },
 "nbformat": 4,
 "nbformat_minor": 5
}
