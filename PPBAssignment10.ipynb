{
 "cells": [
  {
   "cell_type": "markdown",
   "id": "dee60615",
   "metadata": {},
   "source": [
    "que1- Write a Python program to find sum of elements in list?"
   ]
  },
  {
   "cell_type": "markdown",
   "id": "3b9eeef1",
   "metadata": {},
   "source": [
    "ans1- "
   ]
  },
  {
   "cell_type": "code",
   "execution_count": 3,
   "id": "b20b387e",
   "metadata": {},
   "outputs": [
    {
     "name": "stdout",
     "output_type": "stream",
     "text": [
      "Enter the No of Entries in a List: 6\n",
      "Enter an element: 4\n",
      "Enter an element: 5\n",
      "Enter an element: 7\n",
      "Enter an element: 8\n",
      "Enter an element: 9\n",
      "Enter an element: 6\n",
      "Sum of Elements: 39\n"
     ]
    }
   ],
   "source": [
    "def sumoflist():\n",
    "    in_ele = int(input('Enter the No of Entries in a List: '))\n",
    "    in_list = []\n",
    "    for itr in range(in_ele):\n",
    "        in_list.append(int(input('Enter an element: ')))\n",
    "    print(f'Sum of Elements: {sum(in_list)}')\n",
    "\n",
    "sumoflist()"
   ]
  },
  {
   "cell_type": "markdown",
   "id": "37be5152",
   "metadata": {},
   "source": [
    "que2- Write a Python program to  Multiply all numbers in the list?"
   ]
  },
  {
   "cell_type": "markdown",
   "id": "c94a7021",
   "metadata": {},
   "source": [
    "ans2- "
   ]
  },
  {
   "cell_type": "code",
   "execution_count": 9,
   "id": "ee12bb87",
   "metadata": {},
   "outputs": [
    {
     "name": "stdout",
     "output_type": "stream",
     "text": [
      "Enter the No of Entries in a List: 6\n",
      "Enter an element: 4\n",
      "Enter an element: 5\n",
      "Enter an element: 6\n",
      "Enter an element: 1\n",
      "Enter an element: 8\n",
      "Enter an element: 9\n",
      "multiply of Elements:  8640\n"
     ]
    }
   ],
   "source": [
    "def multioflist():\n",
    "    in_ele = int(input('Enter the No of Entries in a List: '))\n",
    "    in_list = []\n",
    "    mul = 1\n",
    "    for itr in range(in_ele):\n",
    "        in_list.append(int(input('Enter an element: ')))\n",
    "    for ele in in_list:\n",
    "        mul = mul * ele\n",
    "    print(f'multiply of Elements: ',mul)\n",
    "    \n",
    "multioflist()"
   ]
  },
  {
   "cell_type": "markdown",
   "id": "9cfd401e",
   "metadata": {},
   "source": [
    "que3- Write a Python program to find smallest number in a list?"
   ]
  },
  {
   "cell_type": "markdown",
   "id": "b7b581a0",
   "metadata": {},
   "source": [
    "ans3- "
   ]
  },
  {
   "cell_type": "code",
   "execution_count": 11,
   "id": "abad52d9",
   "metadata": {},
   "outputs": [
    {
     "name": "stdout",
     "output_type": "stream",
     "text": [
      "Enter the No of elements in a list: 6\n",
      "Enter an Element: 52\n",
      "Enter an Element: 58\n",
      "Enter an Element: 45\n",
      "Enter an Element: 41\n",
      "Enter an Element: 42\n",
      "Enter an Element: 25\n",
      "The Smallest Element in [52, 58, 45, 41, 42, 25] is 25\n"
     ]
    }
   ],
   "source": [
    "def smallelement():\n",
    "    in_ele = int(input('Enter the No of elements in a list: '))\n",
    "    in_list = []\n",
    "    for ele in range(in_ele):\n",
    "        in_list.append(int(input('Enter an Element: ')))\n",
    "    print(f'The Smallest Element in {in_list} is {sorted(in_list)[0]}')\n",
    "\n",
    "smallelement()"
   ]
  },
  {
   "cell_type": "markdown",
   "id": "242896f4",
   "metadata": {},
   "source": [
    "que4- Write a Python program to find largest number in a list?"
   ]
  },
  {
   "cell_type": "markdown",
   "id": "aab0c06d",
   "metadata": {},
   "source": [
    "ans4- "
   ]
  },
  {
   "cell_type": "code",
   "execution_count": 13,
   "id": "b8f08094",
   "metadata": {},
   "outputs": [
    {
     "name": "stdout",
     "output_type": "stream",
     "text": [
      "Enter the No of elements in a list: 6\n",
      "Enter an Element: 95\n",
      "Enter an Element: 85\n",
      "Enter an Element: 75\n",
      "Enter an Element: 45\n",
      "Enter an Element: 52\n",
      "Enter an Element: 12\n",
      "The Largest Element in [95, 85, 75, 45, 52, 12] is 95\n"
     ]
    }
   ],
   "source": [
    "def largestelement():\n",
    "    in_ele = int(input('Enter the No of elements in a list: '))\n",
    "    in_list = []\n",
    "    for ele in range(in_ele):\n",
    "        in_list.append(int(input('Enter an Element: ')))\n",
    "    print(f'The Largest Element in {in_list} is {sorted(in_list)[-1]}')\n",
    "\n",
    "largestelement()"
   ]
  },
  {
   "cell_type": "markdown",
   "id": "984ed3af",
   "metadata": {},
   "source": [
    "que5- Write a Python program to find second largest number in a list?"
   ]
  },
  {
   "cell_type": "markdown",
   "id": "b81f46e6",
   "metadata": {},
   "source": [
    "ans5- "
   ]
  },
  {
   "cell_type": "code",
   "execution_count": 14,
   "id": "e7e34011",
   "metadata": {},
   "outputs": [
    {
     "name": "stdout",
     "output_type": "stream",
     "text": [
      "Enter the No of elements in a list: 5\n",
      "Enter an Element: 89\n",
      "Enter an Element: 42\n",
      "Enter an Element: 96\n",
      "Enter an Element: 75\n",
      "Enter an Element: 45\n",
      "The Largest Element in [89, 42, 96, 75, 45] is 89\n"
     ]
    }
   ],
   "source": [
    "def seclargestelement():\n",
    "    in_ele = int(input('Enter the No of elements in a list: '))\n",
    "    in_list = []\n",
    "    for ele in range(in_ele):\n",
    "        in_list.append(int(input('Enter an Element: ')))\n",
    "    print(f'The Largest Element in {in_list} is {sorted(in_list)[-2]}')\n",
    "\n",
    "seclargestelement()"
   ]
  },
  {
   "cell_type": "markdown",
   "id": "9e03d88c",
   "metadata": {},
   "source": [
    "que6- Write a Python program to find N largest elements from a list?"
   ]
  },
  {
   "cell_type": "markdown",
   "id": "58798395",
   "metadata": {},
   "source": [
    "ans6- "
   ]
  },
  {
   "cell_type": "code",
   "execution_count": 16,
   "id": "a5af822b",
   "metadata": {},
   "outputs": [
    {
     "name": "stdout",
     "output_type": "stream",
     "text": [
      "Enter the No of elements in a list: 7\n",
      "Enter an Element: 4\n",
      "Enter an Element: 5\n",
      "Enter an Element: 6\n",
      "Enter an Element: 85\n",
      "Enter an Element: 75\n",
      "Enter an Element: 95\n",
      "Enter an Element: 45\n",
      "The 3 Largest Element in [4, 5, 6, 85, 75, 95, 45] is [95, 85, 75]\n"
     ]
    }
   ],
   "source": [
    "def nlargestelement(k):\n",
    "    in_ele = int(input('Enter the No of elements in a list: '))\n",
    "    in_list = []\n",
    "    for ele in range(in_ele):\n",
    "        in_list.append(int(input('Enter an Element: ')))\n",
    "    print(f'The {k} Largest Element in {in_list} is {sorted(in_list, reverse=True)[0:k]}')\n",
    "\n",
    "nlargestelement(3)"
   ]
  },
  {
   "cell_type": "markdown",
   "id": "065f6fa1",
   "metadata": {},
   "source": [
    "que7- Write a Python program to print even numbers in a list?"
   ]
  },
  {
   "cell_type": "markdown",
   "id": "e67b6646",
   "metadata": {},
   "source": [
    "ans7- "
   ]
  },
  {
   "cell_type": "code",
   "execution_count": 18,
   "id": "1076173f",
   "metadata": {},
   "outputs": [
    {
     "name": "stdout",
     "output_type": "stream",
     "text": [
      "Enter the No of elements in a list: 8\n",
      "Enter an Element: 4\n",
      "Enter an Element: 6\n",
      "Enter an Element: 58\n",
      "Enter an Element: 45\n",
      "Enter an Element: 52\n",
      "Enter an Element: 51\n",
      "Enter an Element: 63\n",
      "Enter an Element: 98\n",
      "The Even Elements in [4, 6, 58, 45, 52, 51, 63, 98] are [4, 6, 58, 52, 98]\n"
     ]
    }
   ],
   "source": [
    "def eveninlist():\n",
    "    in_ele = int(input('Enter the No of elements in a list: '))\n",
    "    in_list = []\n",
    "    even_list = []\n",
    "    for ele in range(in_ele):\n",
    "        in_list.append(int(input('Enter an Element: ')))\n",
    "    for ele in in_list:\n",
    "        if ele%2 == 0:\n",
    "            even_list.append(ele)\n",
    "    print(f'The Even Elements in {in_list} are {even_list}')\n",
    "\n",
    "eveninlist()"
   ]
  },
  {
   "cell_type": "markdown",
   "id": "15252119",
   "metadata": {},
   "source": [
    "que8- Write a Python program to print odd numbers in a List?"
   ]
  },
  {
   "cell_type": "markdown",
   "id": "436c084e",
   "metadata": {},
   "source": [
    "ans8- "
   ]
  },
  {
   "cell_type": "code",
   "execution_count": 19,
   "id": "425bccb3",
   "metadata": {},
   "outputs": [
    {
     "name": "stdout",
     "output_type": "stream",
     "text": [
      "Enter the No of elements in a list: 8\n",
      "Enter an Element: 4\n",
      "Enter an Element: 6\n",
      "Enter an Element: 5\n",
      "Enter an Element: 8\n",
      "Enter an Element: 9\n",
      "Enter an Element: 7\n",
      "Enter an Element: 2\n",
      "Enter an Element: 1\n",
      "The Even Elements in [4, 6, 5, 8, 9, 7, 2, 1] are [5, 9, 7, 1]\n"
     ]
    }
   ],
   "source": [
    "def oddinlist():\n",
    "    in_ele = int(input('Enter the No of elements in a list: '))\n",
    "    in_list = []\n",
    "    odd_list = []\n",
    "    for ele in range(in_ele):\n",
    "        in_list.append(int(input('Enter an Element: ')))\n",
    "    for ele in in_list:\n",
    "        if ele%2 != 0:\n",
    "            odd_list.append(ele)\n",
    "    print(f'The Even Elements in {in_list} are {odd_list}')\n",
    "\n",
    "oddinlist()"
   ]
  },
  {
   "cell_type": "markdown",
   "id": "1a0d2a40",
   "metadata": {},
   "source": [
    "que9- Write a Python program to Remove empty List from List?"
   ]
  },
  {
   "cell_type": "markdown",
   "id": "8fd86b10",
   "metadata": {},
   "source": [
    "ans9- "
   ]
  },
  {
   "cell_type": "code",
   "execution_count": 21,
   "id": "707b76b8",
   "metadata": {},
   "outputs": [
    {
     "name": "stdout",
     "output_type": "stream",
     "text": [
      "Enter all elements of the list: [4,5,4,56,[],4,4,5,42]\n",
      "There is an Empty list in [4, 5, 4, 56, [], 4, 4, 5, 42] at Position 4\n",
      "The List after removing [] is [4, 5, 4, 56, 4, 4, 5, 42]\n"
     ]
    }
   ],
   "source": [
    "def checkemptylist():\n",
    "    in_list = eval(input('Enter all elements of the list: '))\n",
    "    if [] in in_list:\n",
    "        print(f'There is an Empty list in {in_list} at Position {in_list.index([])}')\n",
    "        in_list.remove([])\n",
    "        print(f'The List after removing [] is {in_list}')\n",
    "    else:\n",
    "        print(f'There is no [] List in the list {in_list}')\n",
    "        \n",
    "checkemptylist()"
   ]
  },
  {
   "cell_type": "markdown",
   "id": "16f92cf8",
   "metadata": {},
   "source": [
    "que10- Write a Python program to Cloning or Copying a list?"
   ]
  },
  {
   "cell_type": "markdown",
   "id": "85865a21",
   "metadata": {},
   "source": [
    "ans10- "
   ]
  },
  {
   "cell_type": "code",
   "execution_count": 23,
   "id": "3a97852d",
   "metadata": {},
   "outputs": [
    {
     "name": "stdout",
     "output_type": "stream",
     "text": [
      "Enter a list[8235,62,2,16,5,4,6,56,1]\n",
      "[8235, 62, 2, 16, 5, 4, 6, 56, 1] 965766532992\n",
      "[8235, 62, 2, 16, 5, 4, 6, 56, 1] 965766560448\n"
     ]
    }
   ],
   "source": [
    "import copy\n",
    "\n",
    "def cloneList():\n",
    "    in_list = eval(input('Enter a list'))\n",
    "    print(in_list, id(in_list))\n",
    "    cloned_list = in_list.copy()\n",
    "    print(cloned_list, id(cloned_list))\n",
    "\n",
    "cloneList()"
   ]
  },
  {
   "cell_type": "markdown",
   "id": "4d6b8ef5",
   "metadata": {},
   "source": [
    "que11- Write a Python program to Count occurrences of an element in a list?"
   ]
  },
  {
   "cell_type": "markdown",
   "id": "18e50f88",
   "metadata": {},
   "source": [
    "ans11- "
   ]
  },
  {
   "cell_type": "code",
   "execution_count": 25,
   "id": "13e4d035",
   "metadata": {},
   "outputs": [
    {
     "name": "stdout",
     "output_type": "stream",
     "text": [
      "Enter the elements of the list: [6563,561,495,5,46,16,46,26,46,46,1]\n",
      "Enter the element to find: 46\n",
      "There are 4 occurences of 46 in [6563, 561, 495, 5, 46, 16, 46, 26, 46, 46, 1]\n"
     ]
    }
   ],
   "source": [
    "def checkoccurence():\n",
    "    in_list = eval(input('Enter the elements of the list: '))\n",
    "    in_num = eval(input('Enter the element to find: '))\n",
    "    count = 0\n",
    "    if in_num in in_list:\n",
    "        for ele in in_list:\n",
    "            if ele == in_num:\n",
    "                count = count+1\n",
    "    print(f'There are {count} occurences of {in_num} in {in_list}')\n",
    "    \n",
    "checkoccurence()"
   ]
  }
 ],
 "metadata": {
  "kernelspec": {
   "display_name": "Python 3 (ipykernel)",
   "language": "python",
   "name": "python3"
  },
  "language_info": {
   "codemirror_mode": {
    "name": "ipython",
    "version": 3
   },
   "file_extension": ".py",
   "mimetype": "text/x-python",
   "name": "python",
   "nbconvert_exporter": "python",
   "pygments_lexer": "ipython3",
   "version": "3.9.7"
  }
 },
 "nbformat": 4,
 "nbformat_minor": 5
}
