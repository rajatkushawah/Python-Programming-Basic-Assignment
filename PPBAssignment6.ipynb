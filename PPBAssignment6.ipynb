{
 "cells": [
  {
   "cell_type": "markdown",
   "id": "95d90023",
   "metadata": {},
   "source": [
    "que1- Write a Python Program to Display Fibonacci Sequence Using Recursion?"
   ]
  },
  {
   "cell_type": "markdown",
   "id": "cb4951c7",
   "metadata": {},
   "source": [
    "ans1- "
   ]
  },
  {
   "cell_type": "code",
   "execution_count": 6,
   "id": "def51d66",
   "metadata": {},
   "outputs": [
    {
     "name": "stdout",
     "output_type": "stream",
     "text": [
      "Enter the length of Series: 6\n",
      "0, 1, 3, 5, 8, 13, 21, 34, "
     ]
    }
   ],
   "source": [
    "def Fibonacci(n,a,b):\n",
    "    if n == 0:\n",
    "        return 1\n",
    "    else:\n",
    "        result = a+b\n",
    "        print(result, end=', ')\n",
    "        genFibonacci(n-1,b,result)\n",
    "in_num = int(input('Enter the length of Series: '))\n",
    "print('0, 1',end=', ')\n",
    "Fibonacci(in_num,1,2)"
   ]
  },
  {
   "cell_type": "markdown",
   "id": "3a735afc",
   "metadata": {},
   "source": [
    "que2- Write a Python Program to Find Factorial of Number Using Recursion?"
   ]
  },
  {
   "cell_type": "markdown",
   "id": "2958d380",
   "metadata": {},
   "source": [
    "ans2- "
   ]
  },
  {
   "cell_type": "code",
   "execution_count": 15,
   "id": "0426bcd2",
   "metadata": {},
   "outputs": [
    {
     "name": "stdout",
     "output_type": "stream",
     "text": [
      "input a no : 6\n",
      "720\n"
     ]
    }
   ],
   "source": [
    "def fact(num):\n",
    "    if num==0:\n",
    "        return 1\n",
    "    else:\n",
    "        return num * fact(num-1)\n",
    "\n",
    "num = int(input(\"input a no : \"))\n",
    "\n",
    "if num<0:\n",
    "    print(\"Enter positive no.\")\n",
    "else:\n",
    "    print(fact(num))"
   ]
  },
  {
   "cell_type": "markdown",
   "id": "cf1772bb",
   "metadata": {},
   "source": [
    "que3- Write a Python Program to calculate your Body Mass Index?"
   ]
  },
  {
   "cell_type": "markdown",
   "id": "cd786c6b",
   "metadata": {},
   "source": [
    "ans3- "
   ]
  },
  {
   "cell_type": "code",
   "execution_count": 17,
   "id": "b403a90a",
   "metadata": {},
   "outputs": [
    {
     "name": "stdout",
     "output_type": "stream",
     "text": [
      "enter your height in feet : 6\n",
      "enter your weight in kilo : 80\n",
      "The BMI is =  2.2222222222222223\n"
     ]
    }
   ],
   "source": [
    "h = float(input(\"enter your height in feet : \"))\n",
    "w = float(input(\"enter your weight in kilo : \"))\n",
    "\n",
    "bmi = w/(h**2)\n",
    "\n",
    "print(\"The BMI is = \",bmi)"
   ]
  },
  {
   "cell_type": "markdown",
   "id": "1bce6004",
   "metadata": {},
   "source": [
    "que4- Write a Python Program to calculate the natural logarithm of any number?"
   ]
  },
  {
   "cell_type": "markdown",
   "id": "8ed0b5e8",
   "metadata": {},
   "source": [
    "ans4- "
   ]
  },
  {
   "cell_type": "code",
   "execution_count": 21,
   "id": "5db609d3",
   "metadata": {},
   "outputs": [
    {
     "name": "stdout",
     "output_type": "stream",
     "text": [
      "Enter a Number:9\n",
      "2.1972245773362196\n"
     ]
    }
   ],
   "source": [
    "import math\n",
    "def genNatLog():\n",
    "    in_num = eval(input(\"Enter a Number:\"))\n",
    "    print(math.log(in_num))\n",
    "\n",
    "genNatLog()"
   ]
  },
  {
   "cell_type": "markdown",
   "id": "230f7688",
   "metadata": {},
   "source": [
    "que5- Write a Python Program for cube sum of first n natural numbers?"
   ]
  },
  {
   "cell_type": "markdown",
   "id": "0e2ffef0",
   "metadata": {},
   "source": [
    "ans5- "
   ]
  },
  {
   "cell_type": "code",
   "execution_count": 27,
   "id": "ca53c9ae",
   "metadata": {},
   "outputs": [
    {
     "name": "stdout",
     "output_type": "stream",
     "text": [
      "Enter the no of Natural Numbers: 8\n",
      "The Cube Sum of First 8 Natural Numbers is 1296.0\n"
     ]
    }
   ],
   "source": [
    "def cubeofnaturalnumbers():\n",
    "    in_num = int(input(\"Enter the no of Natural Numbers: \"))\n",
    "    result = pow(((in_num * (in_num +1))/2),2)\n",
    "    print(f'The Cube Sum of First {in_num} Natural Numbers is {result}')\n",
    "\n",
    "cubeofnaturalnumbers()"
   ]
  }
 ],
 "metadata": {
  "kernelspec": {
   "display_name": "Python 3 (ipykernel)",
   "language": "python",
   "name": "python3"
  },
  "language_info": {
   "codemirror_mode": {
    "name": "ipython",
    "version": 3
   },
   "file_extension": ".py",
   "mimetype": "text/x-python",
   "name": "python",
   "nbconvert_exporter": "python",
   "pygments_lexer": "ipython3",
   "version": "3.9.7"
  }
 },
 "nbformat": 4,
 "nbformat_minor": 5
}
